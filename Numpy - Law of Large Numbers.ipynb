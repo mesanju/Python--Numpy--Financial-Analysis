{
 "cells": [
  {
   "cell_type": "code",
   "execution_count": 18,
   "metadata": {},
   "outputs": [
    {
     "name": "stdout",
     "output_type": "stream",
     "text": [
      "Number between -1 and 1: 6848 Mean %: 0.6848\n"
     ]
    }
   ],
   "source": [
    "\"\"\"\"\n",
    "Test the Law of Large Numbers for N random normally distributed numbers with\n",
    "mean=0 and standard deviation=1\n",
    "\n",
    "Create a Python script that will count how many of these numbers fall between -1 and 1 \n",
    "and divide that by the total quantity N\n",
    "You Know that E(X)=68.2% # expected value\n",
    "check that the mean(Xn) is closer to E(X) as you rerun our script while increasing N.\n",
    "\"\"\"\n",
    "\n",
    "N=10000 # larger the value of N mean is more closer to 68.2%\n",
    "counter=0 # count of numners between -1 ans 1\n",
    "\n",
    "import numpy as np\n",
    "from numpy.random import randn\n",
    "for i in randn(N):\n",
    "    if i>-1 and i<1:\n",
    "        counter+=1\n",
    "print(\"Number between -1 and 1:\",counter, \"Mean %:\",counter/N)        \n",
    "\n",
    "\n",
    "\n",
    "\n"
   ]
  },
  {
   "cell_type": "code",
   "execution_count": null,
   "metadata": {},
   "outputs": [],
   "source": []
  }
 ],
 "metadata": {
  "kernelspec": {
   "display_name": "Python 3",
   "language": "python",
   "name": "python3"
  },
  "language_info": {
   "codemirror_mode": {
    "name": "ipython",
    "version": 3
   },
   "file_extension": ".py",
   "mimetype": "text/x-python",
   "name": "python",
   "nbconvert_exporter": "python",
   "pygments_lexer": "ipython3",
   "version": "3.7.3"
  }
 },
 "nbformat": 4,
 "nbformat_minor": 2
}
